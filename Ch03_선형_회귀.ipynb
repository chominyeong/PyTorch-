{
  "nbformat": 4,
  "nbformat_minor": 0,
  "metadata": {
    "colab": {
      "provenance": [],
      "include_colab_link": true
    },
    "kernelspec": {
      "name": "python3",
      "display_name": "Python 3"
    },
    "language_info": {
      "name": "python"
    }
  },
  "cells": [
    {
      "cell_type": "markdown",
      "metadata": {
        "id": "view-in-github",
        "colab_type": "text"
      },
      "source": [
        "<a href=\"https://colab.research.google.com/github/chominyeong/PyTorch-DeepLearning-Start/blob/main/Ch03_%EC%84%A0%ED%98%95_%ED%9A%8C%EA%B7%80.ipynb\" target=\"_parent\"><img src=\"https://colab.research.google.com/assets/colab-badge.svg\" alt=\"Open In Colab\"/></a>"
      ]
    },
    {
      "cell_type": "markdown",
      "metadata": {
        "id": "xLdOjSp4XrjN"
      },
      "source": [
        "## 1) 선형 회귀"
      ]
    },
    {
      "cell_type": "markdown",
      "source": [
        "1. 기본 셋팅"
      ],
      "metadata": {
        "id": "IxPZ_Hy_3z5M"
      }
    },
    {
      "cell_type": "code",
      "metadata": {
        "id": "-wVnzlqAR53k"
      },
      "source": [
        "import torch\n",
        "import torch.nn as nn\n",
        "import torch.nn.functional as F\n",
        "import torch.optim as optim"
      ],
      "execution_count": null,
      "outputs": []
    },
    {
      "cell_type": "code",
      "metadata": {
        "colab": {
          "base_uri": "https://localhost:8080/"
        },
        "id": "vzFAXJmjS5OC",
        "outputId": "e8ceba0d-3f85-40de-90d2-531c3599ea78"
      },
      "source": [
        "torch.manual_seed(1)"
      ],
      "execution_count": null,
      "outputs": [
        {
          "output_type": "execute_result",
          "data": {
            "text/plain": [
              "<torch._C.Generator at 0x7c646e6c53b0>"
            ]
          },
          "metadata": {},
          "execution_count": 2
        }
      ]
    },
    {
      "cell_type": "markdown",
      "source": [
        "2. 변수 선언"
      ],
      "metadata": {
        "id": "C5gSV8PP31i3"
      }
    },
    {
      "cell_type": "code",
      "metadata": {
        "id": "NZ2ogggpS767"
      },
      "source": [
        "x_train = torch.FloatTensor([[1], [2], [3]])\n",
        "y_train = torch.FloatTensor([[2], [4], [6]])"
      ],
      "execution_count": null,
      "outputs": []
    },
    {
      "cell_type": "code",
      "metadata": {
        "colab": {
          "base_uri": "https://localhost:8080/"
        },
        "id": "734_w4f7TBuz",
        "outputId": "15377cd5-d14a-44cd-9acc-9bee0c3865e7"
      },
      "source": [
        "print(x_train)\n",
        "print(x_train.shape)   #(3 x 1)"
      ],
      "execution_count": null,
      "outputs": [
        {
          "output_type": "stream",
          "name": "stdout",
          "text": [
            "tensor([[1.],\n",
            "        [2.],\n",
            "        [3.]])\n",
            "torch.Size([3, 1])\n"
          ]
        }
      ]
    },
    {
      "cell_type": "code",
      "metadata": {
        "colab": {
          "base_uri": "https://localhost:8080/"
        },
        "id": "HFGj3qpPTDq6",
        "outputId": "e74b62eb-618a-4acc-cd22-eb426182e1f6"
      },
      "source": [
        "print(y_train)\n",
        "print(y_train.shape)"
      ],
      "execution_count": null,
      "outputs": [
        {
          "output_type": "stream",
          "name": "stdout",
          "text": [
            "tensor([[2.],\n",
            "        [4.],\n",
            "        [6.]])\n",
            "torch.Size([3, 1])\n"
          ]
        }
      ]
    },
    {
      "cell_type": "markdown",
      "source": [
        "3. 가중치와 편향의 초기화"
      ],
      "metadata": {
        "id": "dvhgMGI433ZT"
      }
    },
    {
      "cell_type": "code",
      "metadata": {
        "colab": {
          "base_uri": "https://localhost:8080/"
        },
        "id": "FR1s0GeBTHLW",
        "outputId": "1b634502-7c39-4be5-94a6-75e3df690fd6"
      },
      "source": [
        "# 가중치 W의 초기값을 0으로\n",
        "W = torch.zeros(1, requires_grad=True)\n",
        "print(W)"
      ],
      "execution_count": null,
      "outputs": [
        {
          "output_type": "stream",
          "name": "stdout",
          "text": [
            "tensor([0.], requires_grad=True)\n"
          ]
        }
      ]
    },
    {
      "cell_type": "code",
      "metadata": {
        "colab": {
          "base_uri": "https://localhost:8080/"
        },
        "id": "CZKles9kTNj7",
        "outputId": "045a7b6b-4beb-4f43-eaca-d731ce00f7cd"
      },
      "source": [
        "# 편향 b의 초기값을 0으로\n",
        "b = torch.zeros(1, requires_grad=True)   #requires_grad=True : 고정되는 값x 변동되는 값\n",
        "print(b)"
      ],
      "execution_count": null,
      "outputs": [
        {
          "output_type": "stream",
          "name": "stdout",
          "text": [
            "tensor([0.], requires_grad=True)\n"
          ]
        }
      ]
    },
    {
      "cell_type": "markdown",
      "source": [
        "4. 가설 세우기"
      ],
      "metadata": {
        "id": "HIkunAnR36HP"
      }
    },
    {
      "cell_type": "code",
      "metadata": {
        "colab": {
          "base_uri": "https://localhost:8080/"
        },
        "id": "i6R_LtFiTSG1",
        "outputId": "2cae8248-78ab-44c0-af36-daf1a093a321"
      },
      "source": [
        "# 가설 선언\n",
        "hypothesis = x_train * W + b\n",
        "print(hypothesis)"
      ],
      "execution_count": null,
      "outputs": [
        {
          "output_type": "stream",
          "name": "stdout",
          "text": [
            "tensor([[0.],\n",
            "        [0.],\n",
            "        [0.]], grad_fn=<AddBackward0>)\n"
          ]
        }
      ]
    },
    {
      "cell_type": "markdown",
      "source": [
        "5. 비용 함수 선언하기"
      ],
      "metadata": {
        "id": "wzAagbWd4BXk"
      }
    },
    {
      "cell_type": "code",
      "metadata": {
        "colab": {
          "base_uri": "https://localhost:8080/"
        },
        "id": "tF8Ht0hKTfti",
        "outputId": "862de011-538b-47a8-ac26-8b8339cbf095"
      },
      "source": [
        "# MSE\n",
        "cost = torch.mean((hypothesis - y_train)**2)\n",
        "print(cost)"
      ],
      "execution_count": null,
      "outputs": [
        {
          "output_type": "stream",
          "name": "stdout",
          "text": [
            "tensor(18.6667, grad_fn=<MeanBackward0>)\n"
          ]
        }
      ]
    },
    {
      "cell_type": "markdown",
      "source": [
        "6. 경사 하강법 구현하기"
      ],
      "metadata": {
        "id": "iJvLdO384V_D"
      }
    },
    {
      "cell_type": "code",
      "metadata": {
        "id": "VubKjn0YTrA_"
      },
      "source": [
        "optimizer = optim.SGD([W, b], lr=0.01)  # lr : 학습률\n",
        "# 학습 대상인 W와 b가 SGD의 입력이 됨."
      ],
      "execution_count": null,
      "outputs": []
    },
    {
      "cell_type": "code",
      "metadata": {
        "id": "EGACrM9kUIwZ"
      },
      "source": [
        "# gradient를 0으로 초기화\n",
        "# (기울기를 초기화해야 새로운 가중치 편향에 대해 새로운 기울기를 구할 수 있다.)\n",
        "optimizer.zero_grad()\n",
        "\n",
        "# 비용 함수를 미분하여 gradient 계산\n",
        "cost.backward()\n",
        "\n",
        "# W와 b를 업데이트\n",
        "# (하강법 최적화 함수 opimizer의 .step() 함수를 호출하여\n",
        "#  인수로 들어갔던 W와 b에서 리턴되는 변수들의 기울기에 학습률(learining rate) 0.01을\n",
        "#  곱하여 빼줌으로서 업데이트합니다.)\n",
        "optimizer.step()"
      ],
      "execution_count": null,
      "outputs": []
    },
    {
      "cell_type": "code",
      "metadata": {
        "colab": {
          "base_uri": "https://localhost:8080/"
        },
        "id": "BRpm0sYqUR3b",
        "outputId": "8fcac510-332d-4855-8b90-f096ad2ced43"
      },
      "source": [
        "# 데이터\n",
        "x_train = torch.FloatTensor([[1], [2], [3]])\n",
        "y_train = torch.FloatTensor([[2], [4], [6]])\n",
        "\n",
        "# 모델 초기화\n",
        "W = torch.zeros(1, requires_grad=True)\n",
        "b = torch.zeros(1, requires_grad=True)\n",
        "\n",
        "# optimizer 설정\n",
        "optimizer = optim.SGD([W, b], lr=0.01)\n",
        "\n",
        "num_epochs = 1999\n",
        "for epoch in range(num_epochs + 1):\n",
        "  # H(x) 계산\n",
        "  hypothesis = x_train * W + b\n",
        "\n",
        "  # cost 계산\n",
        "  cost = torch.mean((hypothesis - y_train) ** 2)\n",
        "\n",
        "  # cost로 H(x) 개선\n",
        "  optimizer.zero_grad() # 미분을 통해 얻은 기울기를 0으로 초기화합니다.\n",
        "  cost.backward() # 비용 함수를 미분하여 gradient 계산\n",
        "  optimizer.step() #위 backward를 통해 x - x*lr 로 경사하강법 실행\n",
        "  #경사 하강법은 비용 함수를 미분하여 이 함수의 기울기(gradient)를 구해서 비용이 최소화 되는 방향을 찾아내는 알고리즘\n",
        "\n",
        "  # 100번마다 로그 출력\n",
        "  if epoch % 100 == 0:\n",
        "      print('Epoch {:4d}/{} W: {:.3f}, b: {:.3f} Cost: {:.6f}'.format(\n",
        "          epoch, num_epochs, W.item(), b.item(), cost.item()\n",
        "      ))\n"
      ],
      "execution_count": null,
      "outputs": [
        {
          "output_type": "stream",
          "text": [
            "Epoch    0/1999 W: 0.187, b: 0.080 Cost: 18.666666\n",
            "Epoch  100/1999 W: 1.746, b: 0.578 Cost: 0.048171\n",
            "Epoch  200/1999 W: 1.800, b: 0.454 Cost: 0.029767\n",
            "Epoch  300/1999 W: 1.843, b: 0.357 Cost: 0.018394\n",
            "Epoch  400/1999 W: 1.876, b: 0.281 Cost: 0.011366\n",
            "Epoch  500/1999 W: 1.903, b: 0.221 Cost: 0.007024\n",
            "Epoch  600/1999 W: 1.924, b: 0.174 Cost: 0.004340\n",
            "Epoch  700/1999 W: 1.940, b: 0.136 Cost: 0.002682\n",
            "Epoch  800/1999 W: 1.953, b: 0.107 Cost: 0.001657\n",
            "Epoch  900/1999 W: 1.963, b: 0.084 Cost: 0.001024\n",
            "Epoch 1000/1999 W: 1.971, b: 0.066 Cost: 0.000633\n",
            "Epoch 1100/1999 W: 1.977, b: 0.052 Cost: 0.000391\n",
            "Epoch 1200/1999 W: 1.982, b: 0.041 Cost: 0.000242\n",
            "Epoch 1300/1999 W: 1.986, b: 0.032 Cost: 0.000149\n",
            "Epoch 1400/1999 W: 1.989, b: 0.025 Cost: 0.000092\n",
            "Epoch 1500/1999 W: 1.991, b: 0.020 Cost: 0.000057\n",
            "Epoch 1600/1999 W: 1.993, b: 0.016 Cost: 0.000035\n",
            "Epoch 1700/1999 W: 1.995, b: 0.012 Cost: 0.000022\n",
            "Epoch 1800/1999 W: 1.996, b: 0.010 Cost: 0.000013\n",
            "Epoch 1900/1999 W: 1.997, b: 0.008 Cost: 0.000008\n"
          ],
          "name": "stdout"
        }
      ]
    },
    {
      "cell_type": "markdown",
      "source": [
        "optimizer.zero_grad()가 필요한 이유"
      ],
      "metadata": {
        "id": "jfXvt9d46DOm"
      }
    },
    {
      "cell_type": "code",
      "metadata": {
        "colab": {
          "base_uri": "https://localhost:8080/"
        },
        "id": "lQvqxS4FW-uI",
        "outputId": "a23e10c6-c8ad-47b1-db64-401b15059ea9"
      },
      "source": [
        "import torch\n",
        "w = torch.tensor(2.0, requires_grad=True)\n",
        "\n",
        "nb_epochs = 20\n",
        "for epoch in range(nb_epochs + 1):\n",
        "\n",
        "  z = 2*w\n",
        "\n",
        "  z.backward()\n",
        "  print('수식을 w로 미분한 값 : {}'.format(w.grad))"
      ],
      "execution_count": null,
      "outputs": [
        {
          "output_type": "stream",
          "name": "stdout",
          "text": [
            "수식을 w로 미분한 값 : 2.0\n",
            "수식을 w로 미분한 값 : 4.0\n",
            "수식을 w로 미분한 값 : 6.0\n",
            "수식을 w로 미분한 값 : 8.0\n",
            "수식을 w로 미분한 값 : 10.0\n",
            "수식을 w로 미분한 값 : 12.0\n",
            "수식을 w로 미분한 값 : 14.0\n",
            "수식을 w로 미분한 값 : 16.0\n",
            "수식을 w로 미분한 값 : 18.0\n",
            "수식을 w로 미분한 값 : 20.0\n",
            "수식을 w로 미분한 값 : 22.0\n",
            "수식을 w로 미분한 값 : 24.0\n",
            "수식을 w로 미분한 값 : 26.0\n",
            "수식을 w로 미분한 값 : 28.0\n",
            "수식을 w로 미분한 값 : 30.0\n",
            "수식을 w로 미분한 값 : 32.0\n",
            "수식을 w로 미분한 값 : 34.0\n",
            "수식을 w로 미분한 값 : 36.0\n",
            "수식을 w로 미분한 값 : 38.0\n",
            "수식을 w로 미분한 값 : 40.0\n",
            "수식을 w로 미분한 값 : 42.0\n"
          ]
        }
      ]
    },
    {
      "cell_type": "markdown",
      "metadata": {
        "id": "twMh4scwXp1m"
      },
      "source": [
        "## 2) 자동 미분"
      ]
    },
    {
      "cell_type": "code",
      "metadata": {
        "id": "sZb09PMfXgF5"
      },
      "source": [
        "import torch"
      ],
      "execution_count": null,
      "outputs": []
    },
    {
      "cell_type": "code",
      "metadata": {
        "id": "BXTRo7dWYCia"
      },
      "source": [
        "w = torch.tensor(2.0, requires_grad=True)"
      ],
      "execution_count": null,
      "outputs": []
    },
    {
      "cell_type": "code",
      "metadata": {
        "id": "ERrN9RqgYI-Y"
      },
      "source": [
        "## 2w²+5\n",
        "y = w**2\n",
        "z = 2*y + 5"
      ],
      "execution_count": null,
      "outputs": []
    },
    {
      "cell_type": "code",
      "metadata": {
        "id": "wsNUqMavYNyW"
      },
      "source": [
        "# 2w²+5를 w에 대해서 미분해야 한다. .backward()를 호출하면 기울기를 계산해준다.\n",
        "z.backward()"
      ],
      "execution_count": null,
      "outputs": []
    },
    {
      "cell_type": "code",
      "metadata": {
        "colab": {
          "base_uri": "https://localhost:8080/"
        },
        "id": "tNniI2ZmYUfO",
        "outputId": "80fb4604-de83-4bbb-8000-342808b9fb5c"
      },
      "source": [
        "print('수식을 w로 미분한 값 : {}'.format(w.grad))"
      ],
      "execution_count": null,
      "outputs": [
        {
          "output_type": "stream",
          "name": "stdout",
          "text": [
            "수식을 w로 미분한 값 : 8.0\n"
          ]
        }
      ]
    },
    {
      "cell_type": "markdown",
      "metadata": {
        "id": "cI5vrB6oYgre"
      },
      "source": [
        "## 3) 다중 선형 회귀"
      ]
    },
    {
      "cell_type": "code",
      "metadata": {
        "id": "1UuapjWSYV_p"
      },
      "source": [
        "import torch\n",
        "import torch.nn as nn\n",
        "import torch.nn.functional as F\n",
        "import torch.optim as optim"
      ],
      "execution_count": 1,
      "outputs": []
    },
    {
      "cell_type": "code",
      "metadata": {
        "colab": {
          "base_uri": "https://localhost:8080/"
        },
        "id": "QWn04iIPoSIC",
        "outputId": "80c8bc64-a1fa-42f0-d5c9-970166d6f0d7"
      },
      "source": [
        "torch.manual_seed(1)"
      ],
      "execution_count": 2,
      "outputs": [
        {
          "output_type": "execute_result",
          "data": {
            "text/plain": [
              "<torch._C.Generator at 0x7841ac0bd5d0>"
            ]
          },
          "metadata": {},
          "execution_count": 2
        }
      ]
    },
    {
      "cell_type": "code",
      "metadata": {
        "id": "gxt161AeoU9H"
      },
      "source": [
        "# 훈련 데이터\n",
        "x1_train = torch.FloatTensor([[73], [93], [89], [96], [73]])\n",
        "x2_train = torch.FloatTensor([[80], [88], [91], [98], [66]])\n",
        "x3_train = torch.FloatTensor([[75], [93], [90], [100], [70]])\n",
        "y_train = torch.FloatTensor([[152], [185], [180], [196], [142]])"
      ],
      "execution_count": 3,
      "outputs": []
    },
    {
      "cell_type": "code",
      "metadata": {
        "id": "grdK_tkpoWxH"
      },
      "source": [
        "# 가중치 w와 편향 b 초기화\n",
        "w1 = torch.zeros(1, requires_grad=True)\n",
        "w2 = torch.zeros(1, requires_grad=True)\n",
        "w3 = torch.zeros(1, requires_grad=True)\n",
        "b = torch.zeros(1, requires_grad=True)"
      ],
      "execution_count": 4,
      "outputs": []
    },
    {
      "cell_type": "code",
      "metadata": {
        "colab": {
          "base_uri": "https://localhost:8080/"
        },
        "id": "RRPN0LvgoeJ_",
        "outputId": "b7cb138b-5c14-494c-e715-a934d176968e"
      },
      "source": [
        "# optimizer 설정\n",
        "optimizer = optim.SGD([w1, w2, w3, b], lr=1e-5)\n",
        "\n",
        "nb_epochs = 1000\n",
        "for epoch in range(nb_epochs + 1):\n",
        "\n",
        "    # H(x) 계산\n",
        "    hypothesis = x1_train * w1 + x2_train * w2 + x3_train * w3 + b\n",
        "\n",
        "    # cost 계산\n",
        "    cost = torch.mean((hypothesis - y_train) ** 2)\n",
        "\n",
        "    # cost로 H(x) 개선\n",
        "    optimizer.zero_grad()\n",
        "    cost.backward()\n",
        "    optimizer.step()\n",
        "\n",
        "    # 100번마다 로그 출력\n",
        "    if epoch % 100 == 0:\n",
        "        print('Epoch {:4d}/{} w1: {:.3f} w2: {:.3f} w3: {:.3f} b: {:.3f} Cost: {:.6f}'.format(\n",
        "            epoch, nb_epochs, w1.item(), w2.item(), w3.item(), b.item(), cost.item()\n",
        "        ))"
      ],
      "execution_count": 5,
      "outputs": [
        {
          "output_type": "stream",
          "name": "stdout",
          "text": [
            "Epoch    0/1000 w1: 0.294 w2: 0.294 w3: 0.297 b: 0.003 Cost: 29661.800781\n",
            "Epoch  100/1000 w1: 0.674 w2: 0.661 w3: 0.676 b: 0.008 Cost: 1.563628\n",
            "Epoch  200/1000 w1: 0.679 w2: 0.655 w3: 0.677 b: 0.008 Cost: 1.497595\n",
            "Epoch  300/1000 w1: 0.684 w2: 0.649 w3: 0.677 b: 0.008 Cost: 1.435044\n",
            "Epoch  400/1000 w1: 0.689 w2: 0.643 w3: 0.678 b: 0.008 Cost: 1.375726\n",
            "Epoch  500/1000 w1: 0.694 w2: 0.638 w3: 0.678 b: 0.009 Cost: 1.319507\n",
            "Epoch  600/1000 w1: 0.699 w2: 0.633 w3: 0.679 b: 0.009 Cost: 1.266222\n",
            "Epoch  700/1000 w1: 0.704 w2: 0.627 w3: 0.679 b: 0.009 Cost: 1.215703\n",
            "Epoch  800/1000 w1: 0.709 w2: 0.622 w3: 0.679 b: 0.009 Cost: 1.167810\n",
            "Epoch  900/1000 w1: 0.713 w2: 0.617 w3: 0.680 b: 0.009 Cost: 1.122429\n",
            "Epoch 1000/1000 w1: 0.718 w2: 0.613 w3: 0.680 b: 0.009 Cost: 1.079390\n"
          ]
        }
      ]
    },
    {
      "cell_type": "markdown",
      "source": [
        "벡터와 행렬 연산으로 바꾸기"
      ],
      "metadata": {
        "id": "r1HFU5znLE5h"
      }
    },
    {
      "cell_type": "code",
      "metadata": {
        "id": "MLPH4YKCpPuM"
      },
      "source": [
        "x_train  =  torch.FloatTensor([[73,  80,  75],\n",
        "                               [93,  88,  93],\n",
        "                               [89,  91,  80],\n",
        "                               [96,  98,  100],\n",
        "                               [73,  66,  70]])\n",
        "y_train  =  torch.FloatTensor([[152],  [185],  [180],  [196],  [142]])"
      ],
      "execution_count": 6,
      "outputs": []
    },
    {
      "cell_type": "code",
      "metadata": {
        "colab": {
          "base_uri": "https://localhost:8080/"
        },
        "id": "j7ZL8uZOqqva",
        "outputId": "e29b2a2a-e281-4f81-b131-981300450fc4"
      },
      "source": [
        "print(x_train.shape)   # (5 x 3) 행렬\n",
        "print(y_train.shape)   # (5 x 1) 행렬"
      ],
      "execution_count": 8,
      "outputs": [
        {
          "output_type": "stream",
          "name": "stdout",
          "text": [
            "torch.Size([5, 3])\n",
            "torch.Size([5, 1])\n"
          ]
        }
      ]
    },
    {
      "cell_type": "code",
      "metadata": {
        "id": "gtzvuPBPqwIr"
      },
      "source": [
        "w = torch.zeros((3,1), requires_grad=True)  # (3 x 1) 벡터\n",
        "b = torch.zeros(1, requires_grad=True)"
      ],
      "execution_count": 10,
      "outputs": []
    },
    {
      "cell_type": "code",
      "metadata": {
        "id": "LGIDU6i-q715"
      },
      "source": [
        "hypothesis = x_train.matmul(w) + b"
      ],
      "execution_count": 11,
      "outputs": []
    },
    {
      "cell_type": "code",
      "metadata": {
        "id": "6Rr4ZJQzrvWn"
      },
      "source": [
        "# 나머지는 위와 동일\n",
        "optimizer = optim.SGD([w, b], lr=1e-5)"
      ],
      "execution_count": 12,
      "outputs": []
    },
    {
      "cell_type": "code",
      "metadata": {
        "colab": {
          "base_uri": "https://localhost:8080/"
        },
        "id": "Ag0L3ZnjrieI",
        "outputId": "ba7b0792-9011-4e65-aecc-5c8b940c8df6"
      },
      "source": [
        "nb_epochs = 20\n",
        "for epoch in range(nb_epochs + 1):\n",
        "\n",
        "    # H(x) 계산\n",
        "    # 편향 b는 브로드 캐스팅되어 각 샘플에 더해집니다.\n",
        "    hypothesis = x_train.matmul(w) + b\n",
        "\n",
        "    # cost 계산\n",
        "    cost = torch.mean((hypothesis - y_train) ** 2)\n",
        "\n",
        "    # cost로 H(x) 개선\n",
        "    optimizer.zero_grad()\n",
        "    cost.backward()\n",
        "    optimizer.step()\n",
        "\n",
        "    print('Epoch {:4d}/{} hypothesis: {} Cost: {:.6f}'.format(\n",
        "        epoch, nb_epochs, hypothesis.squeeze().detach(), cost.item()\n",
        "    ))\n"
      ],
      "execution_count": 13,
      "outputs": [
        {
          "output_type": "stream",
          "name": "stdout",
          "text": [
            "Epoch    0/20 hypothesis: tensor([0., 0., 0., 0., 0.]) Cost: 29661.800781\n",
            "Epoch    1/20 hypothesis: tensor([66.7178, 80.1701, 76.1025, 86.0194, 61.1565]) Cost: 9537.694336\n",
            "Epoch    2/20 hypothesis: tensor([104.5421, 125.6208, 119.2478, 134.7862,  95.8280]) Cost: 3069.590088\n",
            "Epoch    3/20 hypothesis: tensor([125.9858, 151.3882, 143.7087, 162.4333, 115.4844]) Cost: 990.670288\n",
            "Epoch    4/20 hypothesis: tensor([138.1429, 165.9963, 157.5768, 178.1071, 126.6283]) Cost: 322.481873\n",
            "Epoch    5/20 hypothesis: tensor([145.0350, 174.2780, 165.4395, 186.9928, 132.9461]) Cost: 107.717064\n",
            "Epoch    6/20 hypothesis: tensor([148.9423, 178.9730, 169.8976, 192.0301, 136.5279]) Cost: 38.687496\n",
            "Epoch    7/20 hypothesis: tensor([151.1574, 181.6346, 172.4254, 194.8856, 138.5585]) Cost: 16.499043\n",
            "Epoch    8/20 hypothesis: tensor([152.4131, 183.1435, 173.8590, 196.5043, 139.7097]) Cost: 9.365656\n",
            "Epoch    9/20 hypothesis: tensor([153.1250, 183.9988, 174.6723, 197.4217, 140.3625]) Cost: 7.071114\n",
            "Epoch   10/20 hypothesis: tensor([153.5285, 184.4835, 175.1338, 197.9415, 140.7325]) Cost: 6.331847\n",
            "Epoch   11/20 hypothesis: tensor([153.7572, 184.7582, 175.3958, 198.2360, 140.9424]) Cost: 6.092532\n",
            "Epoch   12/20 hypothesis: tensor([153.8868, 184.9138, 175.5449, 198.4026, 141.0613]) Cost: 6.013817\n",
            "Epoch   13/20 hypothesis: tensor([153.9602, 185.0019, 175.6299, 198.4969, 141.1288]) Cost: 5.986785\n",
            "Epoch   14/20 hypothesis: tensor([154.0017, 185.0517, 175.6785, 198.5500, 141.1671]) Cost: 5.976325\n",
            "Epoch   15/20 hypothesis: tensor([154.0252, 185.0798, 175.7065, 198.5800, 141.1888]) Cost: 5.971208\n",
            "Epoch   16/20 hypothesis: tensor([154.0385, 185.0956, 175.7229, 198.5966, 141.2012]) Cost: 5.967835\n",
            "Epoch   17/20 hypothesis: tensor([154.0459, 185.1045, 175.7326, 198.6059, 141.2082]) Cost: 5.964969\n",
            "Epoch   18/20 hypothesis: tensor([154.0501, 185.1094, 175.7386, 198.6108, 141.2122]) Cost: 5.962291\n",
            "Epoch   19/20 hypothesis: tensor([154.0524, 185.1120, 175.7424, 198.6134, 141.2145]) Cost: 5.959664\n",
            "Epoch   20/20 hypothesis: tensor([154.0536, 185.1134, 175.7451, 198.6145, 141.2158]) Cost: 5.957089\n"
          ]
        }
      ]
    },
    {
      "cell_type": "markdown",
      "metadata": {
        "id": "NQMUaNyar_z4"
      },
      "source": [
        "## 4) nn.Module로 구현하는 선형 회귀\n",
        "* 이전 까진 가설함수 / 비용함수를 직접 정의해서 구현했지만, 파이토치 모델을 이용해서 쉽게 구현이 가능함"
      ]
    },
    {
      "cell_type": "code",
      "metadata": {
        "id": "-WJaBzmVrngd"
      },
      "source": [
        "import torch\n",
        "import torch.nn as nn\n",
        "import torch.nn.functional as F"
      ],
      "execution_count": 24,
      "outputs": []
    },
    {
      "cell_type": "code",
      "metadata": {
        "colab": {
          "base_uri": "https://localhost:8080/"
        },
        "id": "JXxgqDs3sRFb",
        "outputId": "047b41de-0e01-4aea-a0d6-d6e7897efbf1"
      },
      "source": [
        "torch.manual_seed(1)"
      ],
      "execution_count": 25,
      "outputs": [
        {
          "output_type": "execute_result",
          "data": {
            "text/plain": [
              "<torch._C.Generator at 0x7841ac0bd5d0>"
            ]
          },
          "metadata": {},
          "execution_count": 25
        }
      ]
    },
    {
      "cell_type": "code",
      "metadata": {
        "id": "tx9erkWEsWHv"
      },
      "source": [
        "x_train = torch.FloatTensor([[1],[2],[3]])\n",
        "y_train = torch.FloatTensor([[2],[4],[6]])"
      ],
      "execution_count": 26,
      "outputs": []
    },
    {
      "cell_type": "code",
      "metadata": {
        "id": "Wn6r4u-ysvbN"
      },
      "source": [
        "# 모델을 선언 및 초기화. 단순 선형 회귀이므로 input_dim(x)=1, output_dim(y)=1.\n",
        "model = nn.Linear(1,1)"
      ],
      "execution_count": 27,
      "outputs": []
    },
    {
      "cell_type": "code",
      "metadata": {
        "colab": {
          "base_uri": "https://localhost:8080/"
        },
        "id": "0WbmVgXms1CY",
        "outputId": "6cd71bba-a3e1-41c8-8cf8-f24863e0adc9"
      },
      "source": [
        "print(list(model.parameters()))\n",
        "# 첫번째 값이 W / 두번째 값이 b => 두 값모두 랜덤으로 초기화 되어있음."
      ],
      "execution_count": 28,
      "outputs": [
        {
          "output_type": "stream",
          "name": "stdout",
          "text": [
            "[Parameter containing:\n",
            "tensor([[0.5153]], requires_grad=True), Parameter containing:\n",
            "tensor([-0.4414], requires_grad=True)]\n"
          ]
        }
      ]
    },
    {
      "cell_type": "code",
      "metadata": {
        "id": "yBqrRWMys5_9"
      },
      "source": [
        "optimizer = torch.optim.SGD(model.parameters(), lr=0.01)"
      ],
      "execution_count": 29,
      "outputs": []
    },
    {
      "cell_type": "code",
      "metadata": {
        "colab": {
          "base_uri": "https://localhost:8080/"
        },
        "id": "09xZyslBtZ9M",
        "outputId": "c6dfd882-6281-4e9f-a849-22ccf0407876"
      },
      "source": [
        "# 전체 훈련 데이터에 대해 경사 하강법을 2,000회 반복\n",
        "nb_epochs = 2000\n",
        "for epoch in range(nb_epochs+1):\n",
        "\n",
        "    # H(x) 계산\n",
        "    prediction = model(x_train)\n",
        "\n",
        "    # cost 계산\n",
        "    cost = F.mse_loss(prediction, y_train) # <== 파이토치에서 제공하는 평균 제곱 오차 함수\n",
        "\n",
        "    # cost로 H(x) 개선하는 부분\n",
        "    # gradient를 0으로 초기화\n",
        "    optimizer.zero_grad()\n",
        "    # 비용 함수를 미분하여 gradient 계산\n",
        "    cost.backward() # backward 연산\n",
        "    # W와 b를 업데이트\n",
        "    optimizer.step()\n",
        "\n",
        "    if epoch % 100 == 0:\n",
        "    # 100번마다 로그 출력\n",
        "      print('Epoch {:4d}/{} Cost: {:.6f}'.format(\n",
        "          epoch, nb_epochs, cost.item()\n",
        "      ))"
      ],
      "execution_count": 30,
      "outputs": [
        {
          "output_type": "stream",
          "name": "stdout",
          "text": [
            "Epoch    0/2000 Cost: 13.103541\n",
            "Epoch  100/2000 Cost: 0.002791\n",
            "Epoch  200/2000 Cost: 0.001724\n",
            "Epoch  300/2000 Cost: 0.001066\n",
            "Epoch  400/2000 Cost: 0.000658\n",
            "Epoch  500/2000 Cost: 0.000407\n",
            "Epoch  600/2000 Cost: 0.000251\n",
            "Epoch  700/2000 Cost: 0.000155\n",
            "Epoch  800/2000 Cost: 0.000096\n",
            "Epoch  900/2000 Cost: 0.000059\n",
            "Epoch 1000/2000 Cost: 0.000037\n",
            "Epoch 1100/2000 Cost: 0.000023\n",
            "Epoch 1200/2000 Cost: 0.000014\n",
            "Epoch 1300/2000 Cost: 0.000009\n",
            "Epoch 1400/2000 Cost: 0.000005\n",
            "Epoch 1500/2000 Cost: 0.000003\n",
            "Epoch 1600/2000 Cost: 0.000002\n",
            "Epoch 1700/2000 Cost: 0.000001\n",
            "Epoch 1800/2000 Cost: 0.000001\n",
            "Epoch 1900/2000 Cost: 0.000000\n",
            "Epoch 2000/2000 Cost: 0.000000\n"
          ]
        }
      ]
    },
    {
      "cell_type": "code",
      "metadata": {
        "colab": {
          "base_uri": "https://localhost:8080/"
        },
        "id": "FFx4LhAAt1iw",
        "outputId": "8705086a-b682-4c5e-f379-c57806983d6a"
      },
      "source": [
        "new_var = torch.FloatTensor([4])\n",
        "pred_y = model(new_var)\n",
        "print(\"훈련 후 입력이 4일 때의 예측값 : \", pred_y)"
      ],
      "execution_count": 31,
      "outputs": [
        {
          "output_type": "stream",
          "name": "stdout",
          "text": [
            "훈련 후 입력이 4일 때의 예측값 :  tensor([7.9989], grad_fn=<ViewBackward0>)\n"
          ]
        }
      ]
    },
    {
      "cell_type": "code",
      "metadata": {
        "colab": {
          "base_uri": "https://localhost:8080/"
        },
        "id": "h6FJrlpet99A",
        "outputId": "ea212b06-c664-4d8d-930c-2822410461c0"
      },
      "source": [
        "print(list(model.parameters()))"
      ],
      "execution_count": 23,
      "outputs": [
        {
          "output_type": "stream",
          "name": "stdout",
          "text": [
            "[Parameter containing:\n",
            "tensor([[2.0000]], requires_grad=True), Parameter containing:\n",
            "tensor([1.5649e-05], requires_grad=True)]\n"
          ]
        }
      ]
    },
    {
      "cell_type": "markdown",
      "source": [
        "다중선형회귀 적용"
      ],
      "metadata": {
        "id": "Gmtj465YTTVM"
      }
    },
    {
      "cell_type": "code",
      "metadata": {
        "id": "SNVHEvD7uL2S"
      },
      "source": [
        "x_train = torch.FloatTensor([[73, 80, 75],\n",
        "                             [93, 88, 93],\n",
        "                             [89, 91, 90],\n",
        "                             [96, 98, 100],\n",
        "                             [73, 66, 70]])\n",
        "y_train = torch.FloatTensor([[152], [185], [180], [196], [142]])"
      ],
      "execution_count": 32,
      "outputs": []
    },
    {
      "cell_type": "code",
      "metadata": {
        "id": "A33mDTzpuYHJ"
      },
      "source": [
        "model = nn.Linear(3,1)"
      ],
      "execution_count": 33,
      "outputs": []
    },
    {
      "cell_type": "code",
      "metadata": {
        "colab": {
          "base_uri": "https://localhost:8080/"
        },
        "id": "pu2wD7reucDP",
        "outputId": "aaa3a801-e801-48bf-f348-67f345d01f56"
      },
      "source": [
        "print(list(model.parameters()))"
      ],
      "execution_count": 34,
      "outputs": [
        {
          "output_type": "stream",
          "name": "stdout",
          "text": [
            "[Parameter containing:\n",
            "tensor([[-0.1119,  0.2710, -0.5435]], requires_grad=True), Parameter containing:\n",
            "tensor([0.3462], requires_grad=True)]\n"
          ]
        }
      ]
    },
    {
      "cell_type": "code",
      "metadata": {
        "id": "8a5qoYedufnr"
      },
      "source": [
        "optimizer = torch.optim.SGD(model.parameters(), lr=1e-5)"
      ],
      "execution_count": 35,
      "outputs": []
    },
    {
      "cell_type": "code",
      "metadata": {
        "colab": {
          "base_uri": "https://localhost:8080/"
        },
        "id": "Xcs-dnQRuw9p",
        "outputId": "b73e4bbf-a648-4545-ff12-81906f4e90fc"
      },
      "source": [
        "nb_epochs = 2000\n",
        "for epoch in range(nb_epochs+1):\n",
        "\n",
        "    # H(x) 계산\n",
        "    prediction = model(x_train)\n",
        "    # model(x_train)은 model.forward(x_train)와 동일함.\n",
        "\n",
        "    # cost 계산\n",
        "    cost = F.mse_loss(prediction, y_train) # <== 파이토치에서 제공하는 평균 제곱 오차 함수\n",
        "\n",
        "    # cost로 H(x) 개선하는 부분\n",
        "    # gradient를 0으로 초기화\n",
        "    optimizer.zero_grad()\n",
        "    # 비용 함수를 미분하여 gradient 계산\n",
        "    cost.backward()\n",
        "    # W와 b를 업데이트\n",
        "    optimizer.step()\n",
        "\n",
        "    if epoch % 100 == 0:\n",
        "    # 100번마다 로그 출력\n",
        "      print('Epoch {:4d}/{} Cost: {:.6f}'.format(\n",
        "          epoch, nb_epochs, cost.item()\n",
        "      ))"
      ],
      "execution_count": null,
      "outputs": [
        {
          "output_type": "stream",
          "text": [
            "Epoch    0/2000 Cost: 42134.707031\n",
            "Epoch  100/2000 Cost: 5.960053\n",
            "Epoch  200/2000 Cost: 5.654707\n",
            "Epoch  300/2000 Cost: 5.365413\n",
            "Epoch  400/2000 Cost: 5.091429\n",
            "Epoch  500/2000 Cost: 4.831834\n",
            "Epoch  600/2000 Cost: 4.585997\n",
            "Epoch  700/2000 Cost: 4.353045\n",
            "Epoch  800/2000 Cost: 4.132426\n",
            "Epoch  900/2000 Cost: 3.923438\n",
            "Epoch 1000/2000 Cost: 3.725488\n",
            "Epoch 1100/2000 Cost: 3.537972\n",
            "Epoch 1200/2000 Cost: 3.360339\n",
            "Epoch 1300/2000 Cost: 3.192076\n",
            "Epoch 1400/2000 Cost: 3.032686\n",
            "Epoch 1500/2000 Cost: 2.881703\n",
            "Epoch 1600/2000 Cost: 2.738666\n",
            "Epoch 1700/2000 Cost: 2.603199\n",
            "Epoch 1800/2000 Cost: 2.474860\n",
            "Epoch 1900/2000 Cost: 2.353289\n",
            "Epoch 2000/2000 Cost: 2.238115\n"
          ],
          "name": "stdout"
        }
      ]
    },
    {
      "cell_type": "code",
      "metadata": {
        "colab": {
          "base_uri": "https://localhost:8080/"
        },
        "id": "8s7VeuIMuxei",
        "outputId": "10689d95-1f51-40e7-8ff0-e941f310afe2"
      },
      "source": [
        "# 임의의 입력 [73, 80, 75]를 선언\n",
        "new_var =  torch.FloatTensor([[73, 80, 75]])\n",
        "# 입력한 값 [73, 80, 75]에 대해서 예측값 y를 리턴받아서 pred_y에 저장\n",
        "pred_y = model(new_var)\n",
        "print(\"훈련 후 입력이 73, 80, 75일 때의 예측값 :\", pred_y)"
      ],
      "execution_count": 36,
      "outputs": [
        {
          "output_type": "stream",
          "name": "stdout",
          "text": [
            "훈련 후 입력이 73, 80, 75일 때의 예측값 : tensor([[-26.9105]], grad_fn=<AddmmBackward0>)\n"
          ]
        }
      ]
    },
    {
      "cell_type": "code",
      "metadata": {
        "id": "98ZfY-xHu4hX",
        "colab": {
          "base_uri": "https://localhost:8080/"
        },
        "outputId": "eb7909f5-7507-441a-b4b3-f4459d934030"
      },
      "source": [
        "print(list(model.parameters()))"
      ],
      "execution_count": 37,
      "outputs": [
        {
          "output_type": "stream",
          "name": "stdout",
          "text": [
            "[Parameter containing:\n",
            "tensor([[-0.1119,  0.2710, -0.5435]], requires_grad=True), Parameter containing:\n",
            "tensor([0.3462], requires_grad=True)]\n"
          ]
        }
      ]
    },
    {
      "cell_type": "markdown",
      "metadata": {
        "id": "SyrvLYs2K24x"
      },
      "source": [
        "## 5) 클래스로 파이토치 모델 구현하기"
      ]
    },
    {
      "cell_type": "code",
      "source": [
        "import torch.nn as nn"
      ],
      "metadata": {
        "id": "kkQi7mJ7YAFs"
      },
      "execution_count": null,
      "outputs": []
    },
    {
      "cell_type": "markdown",
      "source": [
        "단순"
      ],
      "metadata": {
        "id": "4N-KY9z1X-KN"
      }
    },
    {
      "cell_type": "code",
      "metadata": {
        "id": "JPBBPRhTu7Vt"
      },
      "source": [
        "# 모델을 선언 및 초기화. 단순 선형 회귀이므로 input_dim=1, output_dim=1.\n",
        "model = nn.Linear(1,1)"
      ],
      "execution_count": 38,
      "outputs": []
    },
    {
      "cell_type": "code",
      "metadata": {
        "id": "zL9mDGiyK-N_"
      },
      "source": [
        "class LinearRegressionModel(nn.Module):\n",
        "  def __init__(self): # init에서 모델의 구조와 동적을 정의하는 생성자를 정의\n",
        "    super().__init__() # nn.Module의 속성을 갖게 됨\n",
        "    self.linear = nn.Linear(1, 1)\n",
        "\n",
        "  def forward(self, x): # model객체를 데이터와 함께 호출하면 자동으로 실행 됨\n",
        "    return self.linear(x)"
      ],
      "execution_count": 39,
      "outputs": []
    },
    {
      "cell_type": "code",
      "metadata": {
        "id": "uIFlxRbOLUUx"
      },
      "source": [
        "model = LinearRegressionModel()"
      ],
      "execution_count": 40,
      "outputs": []
    },
    {
      "cell_type": "markdown",
      "source": [
        "다중"
      ],
      "metadata": {
        "id": "4H1c4f_mYBTi"
      }
    },
    {
      "cell_type": "code",
      "metadata": {
        "id": "N0lzz3FMLYRu"
      },
      "source": [
        "model = nn.Linear(3, 1)"
      ],
      "execution_count": 41,
      "outputs": []
    },
    {
      "cell_type": "code",
      "metadata": {
        "id": "t-hoyacGL180"
      },
      "source": [
        "class MultivariateLinearRegressionModel(nn.Module):\n",
        "    def __init__(self):\n",
        "        super().__init__()\n",
        "        self.linear = nn.Linear(3, 1) # 다중 선형 회귀이므로 input_dim=3, output_dim=1.\n",
        "\n",
        "    def forward(self, x):\n",
        "        return self.linear(x)"
      ],
      "execution_count": 42,
      "outputs": []
    },
    {
      "cell_type": "code",
      "metadata": {
        "id": "jjh4oUAGMLSs"
      },
      "source": [
        "# 객체 생성\n",
        "model = MultivariateLinearRegressionModel()"
      ],
      "execution_count": 44,
      "outputs": []
    },
    {
      "cell_type": "markdown",
      "source": [
        "단순선형회귀 클래스로 구현하기"
      ],
      "metadata": {
        "id": "cuvkjIMcYtZx"
      }
    },
    {
      "cell_type": "code",
      "metadata": {
        "colab": {
          "base_uri": "https://localhost:8080/"
        },
        "id": "sbl7rlNwMMpl",
        "outputId": "7fdcd5e9-9c93-4464-d5e0-3426f10416f4"
      },
      "source": [
        "torch.manual_seed(1)"
      ],
      "execution_count": 45,
      "outputs": [
        {
          "output_type": "execute_result",
          "data": {
            "text/plain": [
              "<torch._C.Generator at 0x7841ac0bd5d0>"
            ]
          },
          "metadata": {},
          "execution_count": 45
        }
      ]
    },
    {
      "cell_type": "code",
      "metadata": {
        "id": "BqkKYLAbNT99"
      },
      "source": [
        "x_train = torch.FloatTensor([[1], [2], [3]])\n",
        "y_train = torch.FloatTensor([[2], [4], [6]])"
      ],
      "execution_count": 46,
      "outputs": []
    },
    {
      "cell_type": "code",
      "metadata": {
        "id": "fDdsPl1tNWMZ"
      },
      "source": [
        "class LinearRegressionModel(nn.Module):\n",
        "  def __init__(self):\n",
        "    super().__init__()\n",
        "    self.linear = nn.Linear(1, 1)\n",
        "\n",
        "  def forward(self, x):\n",
        "    return self.linear(x)"
      ],
      "execution_count": 47,
      "outputs": []
    },
    {
      "cell_type": "code",
      "metadata": {
        "id": "7fQwuV-TNlAe"
      },
      "source": [
        "model = LinearRegressionModel()"
      ],
      "execution_count": 48,
      "outputs": []
    },
    {
      "cell_type": "code",
      "metadata": {
        "id": "rpgeDSfcNoPL"
      },
      "source": [
        "optimizer = optim.SGD(model.parameters(), lr=0.01)"
      ],
      "execution_count": 49,
      "outputs": []
    },
    {
      "cell_type": "code",
      "metadata": {
        "colab": {
          "base_uri": "https://localhost:8080/"
        },
        "id": "6G_f5RT5NwX1",
        "outputId": "9dbc065c-0e4c-413a-d2c2-951eaa058899"
      },
      "source": [
        "num_epochs = 2000\n",
        "for epoch in range(num_epochs + 1):\n",
        "  pred = model(x_train)\n",
        "  cost = F.mse_loss(pred, y_train)\n",
        "\n",
        "  optimizer.zero_grad()\n",
        "  cost.backward()\n",
        "  optimizer.step()\n",
        "\n",
        "  if epoch % 100 == 0:\n",
        "    print(\"Epoch {:4d}/{} Cost:{:6f}\".format(epoch, num_epochs, cost.item()))"
      ],
      "execution_count": 50,
      "outputs": [
        {
          "output_type": "stream",
          "name": "stdout",
          "text": [
            "Epoch    0/2000 Cost:13.103541\n",
            "Epoch  100/2000 Cost:0.002791\n",
            "Epoch  200/2000 Cost:0.001724\n",
            "Epoch  300/2000 Cost:0.001066\n",
            "Epoch  400/2000 Cost:0.000658\n",
            "Epoch  500/2000 Cost:0.000407\n",
            "Epoch  600/2000 Cost:0.000251\n",
            "Epoch  700/2000 Cost:0.000155\n",
            "Epoch  800/2000 Cost:0.000096\n",
            "Epoch  900/2000 Cost:0.000059\n",
            "Epoch 1000/2000 Cost:0.000037\n",
            "Epoch 1100/2000 Cost:0.000023\n",
            "Epoch 1200/2000 Cost:0.000014\n",
            "Epoch 1300/2000 Cost:0.000009\n",
            "Epoch 1400/2000 Cost:0.000005\n",
            "Epoch 1500/2000 Cost:0.000003\n",
            "Epoch 1600/2000 Cost:0.000002\n",
            "Epoch 1700/2000 Cost:0.000001\n",
            "Epoch 1800/2000 Cost:0.000001\n",
            "Epoch 1900/2000 Cost:0.000000\n",
            "Epoch 2000/2000 Cost:0.000000\n"
          ]
        }
      ]
    },
    {
      "cell_type": "markdown",
      "source": [
        "다중선형회귀 클래스로 구현하기"
      ],
      "metadata": {
        "id": "zdaitJdSY9aH"
      }
    },
    {
      "cell_type": "code",
      "metadata": {
        "id": "LHAP0W-eOcc7"
      },
      "source": [
        "x_train = torch.FloatTensor([[73, 80, 75],\n",
        "                             [93, 88, 93],\n",
        "                             [89, 91, 90],\n",
        "                             [96, 98, 100],\n",
        "                             [73, 66, 70]])\n",
        "y_train = torch.FloatTensor([[152], [185], [180], [196], [142]])"
      ],
      "execution_count": 51,
      "outputs": []
    },
    {
      "cell_type": "code",
      "metadata": {
        "id": "OuXFTKwWOmgk"
      },
      "source": [
        "class MultivariateLinearRegressionModel(nn.Module):\n",
        "    def __init__(self):\n",
        "        super().__init__()\n",
        "        self.linear = nn.Linear(3, 1) # 다중 선형 회귀이므로 input_dim=3, output_dim=1.\n",
        "\n",
        "    def forward(self, x):\n",
        "        return self.linear(x)"
      ],
      "execution_count": 52,
      "outputs": []
    },
    {
      "cell_type": "code",
      "metadata": {
        "id": "KsNZ3svKOoBd"
      },
      "source": [
        "model = MultivariateLinearRegressionModel()\n",
        "optimizer = optim.SGD(model.parameters(), lr=1e-5)"
      ],
      "execution_count": 53,
      "outputs": []
    },
    {
      "cell_type": "code",
      "metadata": {
        "colab": {
          "base_uri": "https://localhost:8080/"
        },
        "id": "kVFIilSWOxmz",
        "outputId": "566ab7da-fa53-47d0-946e-f1ec7d2fff79"
      },
      "source": [
        "num_epochs = 2000\n",
        "for epoch in range(num_epochs + 1):\n",
        "  pred = model(x_train)\n",
        "  cost = F.mse_loss(pred, y_train)\n",
        "\n",
        "  optimizer.zero_grad()\n",
        "  cost.backward()\n",
        "  optimizer.step()\n",
        "\n",
        "  if epoch % 100 == 0:\n",
        "    print(\"Epoch {:4d}/{} Cost:{:6f}\".format(epoch, num_epochs, cost.item()))"
      ],
      "execution_count": 54,
      "outputs": [
        {
          "output_type": "stream",
          "name": "stdout",
          "text": [
            "Epoch    0/2000 Cost:42134.707031\n",
            "Epoch  100/2000 Cost:5.960053\n",
            "Epoch  200/2000 Cost:5.654707\n",
            "Epoch  300/2000 Cost:5.365413\n",
            "Epoch  400/2000 Cost:5.091429\n",
            "Epoch  500/2000 Cost:4.831834\n",
            "Epoch  600/2000 Cost:4.585997\n",
            "Epoch  700/2000 Cost:4.353045\n",
            "Epoch  800/2000 Cost:4.132426\n",
            "Epoch  900/2000 Cost:3.923438\n",
            "Epoch 1000/2000 Cost:3.725488\n",
            "Epoch 1100/2000 Cost:3.537972\n",
            "Epoch 1200/2000 Cost:3.360339\n",
            "Epoch 1300/2000 Cost:3.192076\n",
            "Epoch 1400/2000 Cost:3.032686\n",
            "Epoch 1500/2000 Cost:2.881703\n",
            "Epoch 1600/2000 Cost:2.738666\n",
            "Epoch 1700/2000 Cost:2.603199\n",
            "Epoch 1800/2000 Cost:2.474860\n",
            "Epoch 1900/2000 Cost:2.353289\n",
            "Epoch 2000/2000 Cost:2.238115\n"
          ]
        }
      ]
    },
    {
      "cell_type": "markdown",
      "metadata": {
        "id": "BbI9mkT3PV-0"
      },
      "source": [
        "### 6) 미니 배치와 데이터 로드"
      ]
    },
    {
      "cell_type": "code",
      "metadata": {
        "id": "a2O8UHO-IFDV"
      },
      "source": [
        "from torch.utils.data import TensorDataset # 텐서데이터셋\n",
        "from torch.utils.data import DataLoader # 데이터로더"
      ],
      "execution_count": 55,
      "outputs": []
    },
    {
      "cell_type": "code",
      "metadata": {
        "id": "FMUJTLZXJ1aT"
      },
      "source": [
        "x_train = torch.FloatTensor([[73, 80, 75],\n",
        "                             [93, 88, 93],\n",
        "                             [89, 91, 90],\n",
        "                             [96, 98, 100],\n",
        "                             [73, 66, 70]])\n",
        "y_train = torch.FloatTensor([[152], [185], [180], [196], [142]])"
      ],
      "execution_count": 56,
      "outputs": []
    },
    {
      "cell_type": "code",
      "metadata": {
        "id": "HgoMPVwoJ7wz"
      },
      "source": [
        "dataset = TensorDataset(x_train, y_train)"
      ],
      "execution_count": 57,
      "outputs": []
    },
    {
      "cell_type": "code",
      "metadata": {
        "id": "Qn86mtxDKP1D"
      },
      "source": [
        "dataloader = DataLoader(dataset, batch_size=2, shuffle=True)"
      ],
      "execution_count": 58,
      "outputs": []
    },
    {
      "cell_type": "code",
      "metadata": {
        "colab": {
          "base_uri": "https://localhost:8080/"
        },
        "id": "ltPn-CFvKf8e",
        "outputId": "8cf33a19-7efc-4c70-c2e9-ee6a4aa209eb"
      },
      "source": [
        "model = nn.Linear(3, 1)\n",
        "optimizer = optim.SGD(model.parameters(), lr=1e-5)\n",
        "\n",
        "\n",
        "num_epochs = 20\n",
        "for epoch in range(num_epochs + 1):\n",
        "  for batch_index, samples in enumerate(dataloader):\n",
        "    x_train, y_train = samples\n",
        "    pred = model(x_train)\n",
        "    cost = F.mse_loss(pred, y_train)\n",
        "\n",
        "    optimizer.zero_grad()\n",
        "    cost.backward()\n",
        "    optimizer.step()\n",
        "\n",
        "    print('Epoch {:4d}/{} Batch {}/{} Cost: {:.6f}'.format(\n",
        "        epoch, num_epochs, batch_index+1, len(dataloader),\n",
        "        cost.item()))"
      ],
      "execution_count": 59,
      "outputs": [
        {
          "output_type": "stream",
          "name": "stdout",
          "text": [
            "Epoch    0/20 Batch 1/3 Cost: 26838.554688\n",
            "Epoch    0/20 Batch 2/3 Cost: 4949.356445\n",
            "Epoch    0/20 Batch 3/3 Cost: 1217.417969\n",
            "Epoch    1/20 Batch 1/3 Cost: 874.722717\n",
            "Epoch    1/20 Batch 2/3 Cost: 256.657043\n",
            "Epoch    1/20 Batch 3/3 Cost: 24.682867\n",
            "Epoch    2/20 Batch 1/3 Cost: 45.678944\n",
            "Epoch    2/20 Batch 2/3 Cost: 5.590524\n",
            "Epoch    2/20 Batch 3/3 Cost: 27.639938\n",
            "Epoch    3/20 Batch 1/3 Cost: 8.685300\n",
            "Epoch    3/20 Batch 2/3 Cost: 3.939085\n",
            "Epoch    3/20 Batch 3/3 Cost: 2.802620\n",
            "Epoch    4/20 Batch 1/3 Cost: 6.150103\n",
            "Epoch    4/20 Batch 2/3 Cost: 7.124751\n",
            "Epoch    4/20 Batch 3/3 Cost: 2.149211\n",
            "Epoch    5/20 Batch 1/3 Cost: 1.789171\n",
            "Epoch    5/20 Batch 2/3 Cost: 15.624266\n",
            "Epoch    5/20 Batch 3/3 Cost: 3.540388\n",
            "Epoch    6/20 Batch 1/3 Cost: 5.700303\n",
            "Epoch    6/20 Batch 2/3 Cost: 6.880760\n",
            "Epoch    6/20 Batch 3/3 Cost: 2.429928\n",
            "Epoch    7/20 Batch 1/3 Cost: 7.628921\n",
            "Epoch    7/20 Batch 2/3 Cost: 3.857748\n",
            "Epoch    7/20 Batch 3/3 Cost: 5.840229\n",
            "Epoch    8/20 Batch 1/3 Cost: 5.205439\n",
            "Epoch    8/20 Batch 2/3 Cost: 2.935290\n",
            "Epoch    8/20 Batch 3/3 Cost: 16.427006\n",
            "Epoch    9/20 Batch 1/3 Cost: 3.824538\n",
            "Epoch    9/20 Batch 2/3 Cost: 6.187510\n",
            "Epoch    9/20 Batch 3/3 Cost: 7.496346\n",
            "Epoch   10/20 Batch 1/3 Cost: 4.572932\n",
            "Epoch   10/20 Batch 2/3 Cost: 6.737060\n",
            "Epoch   10/20 Batch 3/3 Cost: 5.895672\n",
            "Epoch   11/20 Batch 1/3 Cost: 1.443216\n",
            "Epoch   11/20 Batch 2/3 Cost: 9.311105\n",
            "Epoch   11/20 Batch 3/3 Cost: 8.005715\n",
            "Epoch   12/20 Batch 1/3 Cost: 6.552178\n",
            "Epoch   12/20 Batch 2/3 Cost: 3.549904\n",
            "Epoch   12/20 Batch 3/3 Cost: 7.657715\n",
            "Epoch   13/20 Batch 1/3 Cost: 7.357927\n",
            "Epoch   13/20 Batch 2/3 Cost: 3.529342\n",
            "Epoch   13/20 Batch 3/3 Cost: 10.374599\n",
            "Epoch   14/20 Batch 1/3 Cost: 3.878362\n",
            "Epoch   14/20 Batch 2/3 Cost: 5.393213\n",
            "Epoch   14/20 Batch 3/3 Cost: 13.809702\n",
            "Epoch   15/20 Batch 1/3 Cost: 5.501553\n",
            "Epoch   15/20 Batch 2/3 Cost: 4.437747\n",
            "Epoch   15/20 Batch 3/3 Cost: 13.423676\n",
            "Epoch   16/20 Batch 1/3 Cost: 4.113729\n",
            "Epoch   16/20 Batch 2/3 Cost: 6.071901\n",
            "Epoch   16/20 Batch 3/3 Cost: 7.803999\n",
            "Epoch   17/20 Batch 1/3 Cost: 2.076523\n",
            "Epoch   17/20 Batch 2/3 Cost: 14.499220\n",
            "Epoch   17/20 Batch 3/3 Cost: 4.352218\n",
            "Epoch   18/20 Batch 1/3 Cost: 7.422441\n",
            "Epoch   18/20 Batch 2/3 Cost: 3.180298\n",
            "Epoch   18/20 Batch 3/3 Cost: 10.140516\n",
            "Epoch   19/20 Batch 1/3 Cost: 5.294728\n",
            "Epoch   19/20 Batch 2/3 Cost: 6.063756\n",
            "Epoch   19/20 Batch 3/3 Cost: 4.648493\n",
            "Epoch   20/20 Batch 1/3 Cost: 7.303849\n",
            "Epoch   20/20 Batch 2/3 Cost: 3.836148\n",
            "Epoch   20/20 Batch 3/3 Cost: 5.569603\n"
          ]
        }
      ]
    },
    {
      "cell_type": "code",
      "metadata": {
        "colab": {
          "base_uri": "https://localhost:8080/"
        },
        "id": "y6YD9QsmLq3k",
        "outputId": "c2efeeb1-d0f9-4e48-819d-49428cba193e"
      },
      "source": [
        "new_var = torch.FloatTensor([[73, 80, 75]])\n",
        "pred = model(new_var)\n",
        "print(\"훈련 후 입력이 73, 80, 75일 때의 예측값 :\", pred)"
      ],
      "execution_count": 60,
      "outputs": [
        {
          "output_type": "stream",
          "name": "stdout",
          "text": [
            "훈련 후 입력이 73, 80, 75일 때의 예측값 : tensor([[153.5408]], grad_fn=<AddmmBackward0>)\n"
          ]
        }
      ]
    },
    {
      "cell_type": "markdown",
      "metadata": {
        "id": "BveBDdSrME_z"
      },
      "source": [
        "### 07) 커스텀 데이터셋"
      ]
    },
    {
      "cell_type": "code",
      "source": [
        "import torch\n",
        "import torch.nn.functional as F\n",
        "from torch.utils.data import Dataset\n",
        "from torch.utils.data import DataLoader"
      ],
      "metadata": {
        "id": "HlAktAuFhGS3"
      },
      "execution_count": 61,
      "outputs": []
    },
    {
      "cell_type": "code",
      "metadata": {
        "id": "TAX5RggbMH6x"
      },
      "source": [
        "class CustomDataset(torch.utils.data.Dataset):\n",
        "  # 데이터의 전처리 진행\n",
        "  def __init__(self):\n",
        "    self.x_data = [[73, 80, 75],\n",
        "                   [93, 88, 93],\n",
        "                   [89, 91, 90],\n",
        "                   [96, 98, 100],\n",
        "                   [73, 66, 70]]\n",
        "    self.y_data = [[152], [185], [180], [196], [142]]\n",
        "\n",
        "  # 총 데이터의 개수를 리턴\n",
        "  def __len__(self):\n",
        "    return len(self.x_data)\n",
        "\n",
        "  # 인덱스를 입력받아 그에 맵핑되는 입출력 데이터를 파이토치의 Tensor 형태로 리턴\n",
        "  def __getitem__(self, idx):\n",
        "    x = torch.FloatTensor(self.x_data[idx])\n",
        "    y = torch.FloatTensor(self.y_data[idx])\n",
        "    return x, y"
      ],
      "execution_count": 62,
      "outputs": []
    },
    {
      "cell_type": "code",
      "metadata": {
        "id": "Tn9i5LfMMsm1"
      },
      "source": [
        "dataset = CustomDataset()\n",
        "dataloader = DataLoader(dataset, batch_size=2, shuffle=True)"
      ],
      "execution_count": null,
      "outputs": []
    },
    {
      "cell_type": "code",
      "metadata": {
        "id": "tAYIuCnjPmBa"
      },
      "source": [
        "model = torch.nn.Linear(3, 1)\n",
        "optimizer = optim.SGD(model.parameters(), lr=1e-5)"
      ],
      "execution_count": null,
      "outputs": []
    },
    {
      "cell_type": "code",
      "metadata": {
        "colab": {
          "base_uri": "https://localhost:8080/"
        },
        "id": "nIpeD8FhPzmJ",
        "outputId": "1bed3361-09cc-4a65-a656-0e9534dc723b"
      },
      "source": [
        "nb_epochs = 20\n",
        "for epoch in range(nb_epochs + 1):\n",
        "  for batch_idx, samples in enumerate(dataloader):\n",
        "    # print(batch_idx)\n",
        "    # print(samples)\n",
        "    x_train, y_train = samples\n",
        "    # H(x) 계산\n",
        "    prediction = model(x_train)\n",
        "\n",
        "    # cost 계산\n",
        "    cost = F.mse_loss(prediction, y_train)\n",
        "\n",
        "    # cost로 H(x) 계산\n",
        "    optimizer.zero_grad()\n",
        "    cost.backward()\n",
        "    optimizer.step()\n",
        "\n",
        "    print('Epoch {:4d}/{} Batch {}/{} Cost: {:.6f}'.format(\n",
        "        epoch, nb_epochs, batch_idx+1, len(dataloader),\n",
        "        cost.item()\n",
        "        ))"
      ],
      "execution_count": null,
      "outputs": [
        {
          "output_type": "stream",
          "text": [
            "Epoch    0/20 Batch 1/3 Cost: 48189.210938\n",
            "Epoch    0/20 Batch 2/3 Cost: 6344.856445\n",
            "Epoch    0/20 Batch 3/3 Cost: 4219.934082\n",
            "Epoch    1/20 Batch 1/3 Cost: 1232.357422\n",
            "Epoch    1/20 Batch 2/3 Cost: 211.230530\n",
            "Epoch    1/20 Batch 3/3 Cost: 94.851654\n",
            "Epoch    2/20 Batch 1/3 Cost: 35.020794\n",
            "Epoch    2/20 Batch 2/3 Cost: 12.516342\n",
            "Epoch    2/20 Batch 3/3 Cost: 1.705835\n",
            "Epoch    3/20 Batch 1/3 Cost: 5.902531\n",
            "Epoch    3/20 Batch 2/3 Cost: 1.409709\n",
            "Epoch    3/20 Batch 3/3 Cost: 0.105256\n",
            "Epoch    4/20 Batch 1/3 Cost: 1.801692\n",
            "Epoch    4/20 Batch 2/3 Cost: 5.859886\n",
            "Epoch    4/20 Batch 3/3 Cost: 0.013233\n",
            "Epoch    5/20 Batch 1/3 Cost: 2.745019\n",
            "Epoch    5/20 Batch 2/3 Cost: 1.258049\n",
            "Epoch    5/20 Batch 3/3 Cost: 6.271763\n",
            "Epoch    6/20 Batch 1/3 Cost: 2.508431\n",
            "Epoch    6/20 Batch 2/3 Cost: 4.365737\n",
            "Epoch    6/20 Batch 3/3 Cost: 0.000443\n",
            "Epoch    7/20 Batch 1/3 Cost: 0.327389\n",
            "Epoch    7/20 Batch 2/3 Cost: 3.066322\n",
            "Epoch    7/20 Batch 3/3 Cost: 8.057867\n",
            "Epoch    8/20 Batch 1/3 Cost: 2.089079\n",
            "Epoch    8/20 Batch 2/3 Cost: 5.262801\n",
            "Epoch    8/20 Batch 3/3 Cost: 1.357565\n",
            "Epoch    9/20 Batch 1/3 Cost: 2.959167\n",
            "Epoch    9/20 Batch 2/3 Cost: 0.086751\n",
            "Epoch    9/20 Batch 3/3 Cost: 6.703260\n",
            "Epoch   10/20 Batch 1/3 Cost: 4.096170\n",
            "Epoch   10/20 Batch 2/3 Cost: 3.026555\n",
            "Epoch   10/20 Batch 3/3 Cost: 0.042938\n",
            "Epoch   11/20 Batch 1/3 Cost: 0.317173\n",
            "Epoch   11/20 Batch 2/3 Cost: 5.011995\n",
            "Epoch   11/20 Batch 3/3 Cost: 0.891511\n",
            "Epoch   12/20 Batch 1/3 Cost: 2.645056\n",
            "Epoch   12/20 Batch 2/3 Cost: 3.621207\n",
            "Epoch   12/20 Batch 3/3 Cost: 1.202305\n",
            "Epoch   13/20 Batch 1/3 Cost: 0.168181\n",
            "Epoch   13/20 Batch 2/3 Cost: 3.570641\n",
            "Epoch   13/20 Batch 3/3 Cost: 7.711011\n",
            "Epoch   14/20 Batch 1/3 Cost: 1.977286\n",
            "Epoch   14/20 Batch 2/3 Cost: 5.246264\n",
            "Epoch   14/20 Batch 3/3 Cost: 0.306072\n",
            "Epoch   15/20 Batch 1/3 Cost: 2.202839\n",
            "Epoch   15/20 Batch 2/3 Cost: 3.777711\n",
            "Epoch   15/20 Batch 3/3 Cost: 0.001377\n",
            "Epoch   16/20 Batch 1/3 Cost: 2.564367\n",
            "Epoch   16/20 Batch 2/3 Cost: 3.520997\n",
            "Epoch   16/20 Batch 3/3 Cost: 0.641715\n",
            "Epoch   17/20 Batch 1/3 Cost: 3.610740\n",
            "Epoch   17/20 Batch 2/3 Cost: 0.720868\n",
            "Epoch   17/20 Batch 3/3 Cost: 5.283418\n",
            "Epoch   18/20 Batch 1/3 Cost: 0.891317\n",
            "Epoch   18/20 Batch 2/3 Cost: 5.311595\n",
            "Epoch   18/20 Batch 3/3 Cost: 1.423961\n",
            "Epoch   19/20 Batch 1/3 Cost: 0.329752\n",
            "Epoch   19/20 Batch 2/3 Cost: 2.525001\n",
            "Epoch   19/20 Batch 3/3 Cost: 6.960737\n",
            "Epoch   20/20 Batch 1/3 Cost: 0.135822\n",
            "Epoch   20/20 Batch 2/3 Cost: 5.546263\n",
            "Epoch   20/20 Batch 3/3 Cost: 0.635837\n"
          ],
          "name": "stdout"
        }
      ]
    },
    {
      "cell_type": "code",
      "metadata": {
        "colab": {
          "base_uri": "https://localhost:8080/"
        },
        "id": "Y11JwJjYQX1Y",
        "outputId": "933ce323-438e-4185-98a7-3bcf874d920a"
      },
      "source": [
        "new_var =  torch.FloatTensor([[73, 80, 75]])\n",
        "# 입력한 값 [73, 80, 75]에 대해서 예측값 y를 리턴받아서 pred_y에 저장\n",
        "pred_y = model(new_var)\n",
        "print(\"훈련 후 입력이 73, 80, 75일 때의 예측값 :\", pred_y)"
      ],
      "execution_count": null,
      "outputs": [
        {
          "output_type": "stream",
          "text": [
            "훈련 후 입력이 73, 80, 75일 때의 예측값 : tensor([[151.8098]], grad_fn=<AddmmBackward>)\n"
          ],
          "name": "stdout"
        }
      ]
    }
  ]
}